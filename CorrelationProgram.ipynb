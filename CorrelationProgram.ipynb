{
  "nbformat": 4,
  "nbformat_minor": 0,
  "metadata": {
    "colab": {
      "provenance": [],
      "collapsed_sections": []
    },
    "kernelspec": {
      "name": "python3",
      "display_name": "Python 3"
    },
    "language_info": {
      "name": "python"
    }
  },
  "cells": [
    {
      "cell_type": "code",
      "execution_count": 1,
      "metadata": {
        "colab": {
          "base_uri": "https://localhost:8080/"
        },
        "id": "hRwVjmbRyiDP",
        "outputId": "8153f558-efc9-4230-c2ed-55fd07f6bd36"
      },
      "outputs": [
        {
          "output_type": "stream",
          "name": "stdout",
          "text": [
            "[[1.         0.75161289]\n",
            " [0.75161289 1.        ]]\n"
          ]
        }
      ],
      "source": [
        "import numpy as np\n",
        "x=[215,325,185,332,406,522,472,614,544,421,445,408]\n",
        "y=[14.2,16.4,19.9,15.2,18.5,22.1,19.4,25.1,23.4,18.1,22.6,17.2]\n",
        "matrix=np.corrcoef(x,y)\n",
        "print(matrix)"
      ]
    },
    {
      "cell_type": "code",
      "source": [
        "import numpy as np\n",
        "x=[43,21,25,42,57,59]\n",
        "y=[99,63,79,75,87,81]\n",
        "matrix=np.corrcoef(x,y)\n",
        "print(matrix)"
      ],
      "metadata": {
        "colab": {
          "base_uri": "https://localhost:8080/"
        },
        "id": "iefgCivzzuOc",
        "outputId": "a7f99664-53da-4a52-feab-1b1570857ae4"
      },
      "execution_count": 2,
      "outputs": [
        {
          "output_type": "stream",
          "name": "stdout",
          "text": [
            "[[1.         0.54712073]\n",
            " [0.54712073 1.        ]]\n"
          ]
        }
      ]
    },
    {
      "cell_type": "code",
      "source": [
        "import numpy as np\n",
        "D=[2,4,6,8,10]\n",
        "E=[4,8,12,16,20]\n",
        "matrix=np.corrcoef(D,E)\n",
        "print(matrix)"
      ],
      "metadata": {
        "colab": {
          "base_uri": "https://localhost:8080/"
        },
        "id": "23iQKMBV0MzS",
        "outputId": "670df98b-2e7b-480f-942a-af6d7c245e75"
      },
      "execution_count": 3,
      "outputs": [
        {
          "output_type": "stream",
          "name": "stdout",
          "text": [
            "[[1. 1.]\n",
            " [1. 1.]]\n"
          ]
        }
      ]
    },
    {
      "cell_type": "code",
      "source": [
        "import pandas as pd\n",
        "data= {\n",
        "      'x' :[45,37,42,35,39],\n",
        "      'y' :[38,20,30,12,22],\n",
        "      'z' :[30,40,35,14,29]\n",
        "      }\n",
        "dataframe=pd.DataFrame(data,columns=['x','y','z'])\n",
        "print(\"DataFrame is :\")\n",
        "matrix=dataframe.corr()\n",
        "print(\"correlation matrix is :\")\n",
        "print(matrix)      "
      ],
      "metadata": {
        "colab": {
          "base_uri": "https://localhost:8080/"
        },
        "id": "HIyi7CB70nZi",
        "outputId": "8949b8c1-6dc1-4cfb-f244-891cb088b7f0"
      },
      "execution_count": 8,
      "outputs": [
        {
          "output_type": "stream",
          "name": "stdout",
          "text": [
            "DataFrame is :\n",
            "correlation matrix is :\n",
            "          x         y         z\n",
            "x  1.000000  0.992154  0.387848\n",
            "y  0.992154  1.000000  0.476121\n",
            "z  0.387848  0.476121  1.000000\n"
          ]
        }
      ]
    },
    {
      "cell_type": "code",
      "source": [
        "import pandas as pd\n",
        "dataframe=pd.read_csv(\"/content/sample_data/california_housing_train.csv\")\n",
        "print(dataframe)\n",
        "matrix=dataframe.corr()\n",
        "print(\"correlation matrix is \")\n",
        "print(matrix)"
      ],
      "metadata": {
        "id": "sIdcP5772pnT"
      },
      "execution_count": null,
      "outputs": []
    },
    {
      "cell_type": "code",
      "source": [
        "#MOney and hours\n",
        "import numpy as np\n",
        "M=[500,1500,1000,2000]\n",
        "N=[5,15,10,20]\n",
        "matrix=np.corrcoef(M,N)\n",
        "print(matrix)"
      ],
      "metadata": {
        "colab": {
          "base_uri": "https://localhost:8080/"
        },
        "id": "RADEaagg2DdF",
        "outputId": "a82766a7-6863-4cbc-8e2f-3b34da7282bd"
      },
      "execution_count": 10,
      "outputs": [
        {
          "output_type": "stream",
          "name": "stdout",
          "text": [
            "[[1. 1.]\n",
            " [1. 1.]]\n"
          ]
        }
      ]
    },
    {
      "cell_type": "code",
      "source": [
        "#time during go to college from room\n",
        "import numpy as np\n",
        "D=[10,40,30,50,20]\n",
        "T=[1,2.5,2,3,1.5]\n",
        "matrix=np.corrcoef(D,T)\n",
        "print(matrix)"
      ],
      "metadata": {
        "colab": {
          "base_uri": "https://localhost:8080/"
        },
        "id": "TPzUCp593zc9",
        "outputId": "b6ec61dd-a0d9-4ef0-db2b-279067a9c739"
      },
      "execution_count": 11,
      "outputs": [
        {
          "output_type": "stream",
          "name": "stdout",
          "text": [
            "[[1. 1.]\n",
            " [1. 1.]]\n"
          ]
        }
      ]
    },
    {
      "cell_type": "code",
      "source": [
        "#body fat and age \n",
        "import numpy as np\n",
        "fat=[40,80,20,50]\n",
        "age=[16,50,14,70]\n",
        "matrix=np.corrcoef(fat,age)\n",
        "print(matrix)"
      ],
      "metadata": {
        "colab": {
          "base_uri": "https://localhost:8080/"
        },
        "id": "sD7Xo_xb4HR3",
        "outputId": "7b5cd22e-fa89-410b-8e03-9e5b75137c5b"
      },
      "execution_count": 13,
      "outputs": [
        {
          "output_type": "stream",
          "name": "stdout",
          "text": [
            "[[1.         0.63373694]\n",
            " [0.63373694 1.        ]]\n"
          ]
        }
      ]
    }
  ]
}